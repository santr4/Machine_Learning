{
 "cells": [
  {
   "cell_type": "code",
   "execution_count": 1,
   "metadata": {},
   "outputs": [
    {
     "name": "stderr",
     "output_type": "stream",
     "text": [
      "2023-09-06 15:37:40.743571: I tensorflow/core/util/port.cc:110] oneDNN custom operations are on. You may see slightly different numerical results due to floating-point round-off errors from different computation orders. To turn them off, set the environment variable `TF_ENABLE_ONEDNN_OPTS=0`.\n",
      "2023-09-06 15:37:40.745005: I tensorflow/tsl/cuda/cudart_stub.cc:28] Could not find cuda drivers on your machine, GPU will not be used.\n",
      "2023-09-06 15:37:40.794941: I tensorflow/tsl/cuda/cudart_stub.cc:28] Could not find cuda drivers on your machine, GPU will not be used.\n",
      "2023-09-06 15:37:40.795967: I tensorflow/core/platform/cpu_feature_guard.cc:182] This TensorFlow binary is optimized to use available CPU instructions in performance-critical operations.\n",
      "To enable the following instructions: AVX2 AVX512F AVX512_VNNI FMA, in other operations, rebuild TensorFlow with the appropriate compiler flags.\n",
      "2023-09-06 15:37:41.607493: W tensorflow/compiler/tf2tensorrt/utils/py_utils.cc:38] TF-TRT Warning: Could not find TensorRT\n"
     ]
    },
    {
     "name": "stdout",
     "output_type": "stream",
     "text": [
      "tf.Tensor(\n",
      "[[ 0.21908943  0.13186385 -0.18607792  0.36266312  0.18316247  0.03074078\n",
      "  -0.31846687 -0.28590536 -0.34383512 -0.42552215  0.09021865  0.15684144\n",
      "  -0.33188838  0.4017493  -0.36350048  0.3369189   0.16681044 -0.08005297\n",
      "   0.048544    0.05827073  0.27915663 -0.32122073  0.158897    0.18310682\n",
      "   0.04302214  0.09630271 -0.45444456  0.3283472  -0.4598026  -0.02517017\n",
      "   0.07880722 -0.09583846 -0.08836746  0.1044301   0.17223547  0.08708577\n",
      "  -0.42381924 -0.09874505  0.1942095  -0.15150172  0.25442097 -0.13058801\n",
      "  -0.52437335 -0.38707784  0.17063537 -0.5767005   0.00345793 -0.29663312\n",
      "  -0.2869715   0.5820711  -0.381468    0.03310007 -0.08846499  0.1947564\n",
      "  -0.29633152 -0.23252091 -0.04588149  0.5950093   0.23821223 -0.06203781\n",
      "  -0.11121899  0.28154296  0.32375425  0.22163415]], shape=(1, 64), dtype=float32)\n"
     ]
    },
    {
     "name": "stderr",
     "output_type": "stream",
     "text": [
      "2023-09-06 15:37:42.501548: I tensorflow/compiler/xla/stream_executor/cuda/cuda_gpu_executor.cc:995] successful NUMA node read from SysFS had negative value (-1), but there must be at least one NUMA node, so returning NUMA node zero. See more at https://github.com/torvalds/linux/blob/v6.0/Documentation/ABI/testing/sysfs-bus-pci#L344-L355\n",
      "2023-09-06 15:37:42.525469: W tensorflow/core/common_runtime/gpu/gpu_device.cc:1960] Cannot dlopen some GPU libraries. Please make sure the missing libraries mentioned above are installed properly if you would like to use GPU. Follow the guide at https://www.tensorflow.org/install/gpu for how to download and setup the required libraries for your platform.\n",
      "Skipping registering GPU devices...\n"
     ]
    }
   ],
   "source": [
    "import tensorflow as tf\n",
    "from tensorflow import keras\n",
    "\n",
    "# Define your custom RNN layer\n",
    "class MyRNNLayer(keras.layers.Layer):\n",
    "    def __init__(self, cell, **kwargs):\n",
    "        super(MyRNNLayer, self).__init__(**kwargs)\n",
    "        self.cell = cell\n",
    "\n",
    "    def call(self, inputs, initial_state):\n",
    "        # Perform the RNN step\n",
    "        output, new_state = self.cell(inputs, initial_state)\n",
    "        return output, new_state\n",
    "\n",
    "# Create a SimpleRNN cell\n",
    "cell = keras.layers.SimpleRNNCell(64)  # You can choose the number of units\n",
    "\n",
    "# Create your custom RNN layer using the SimpleRNN cell\n",
    "my_rnn = MyRNNLayer(cell)\n",
    "\n",
    "# Initialize the hidden state\n",
    "hidden_state = tf.zeros((1, 64), dtype=tf.float32)  # Make sure it matches the number of units in your cell\n",
    "\n",
    "# Define a sentence (convert words to numerical representations)\n",
    "sentence = [\"I\", \"love\", \"recurrent\", \"neural\"]\n",
    "\n",
    "# Define a simple word-to-index mapping for demonstration purposes\n",
    "word_to_index = {\"I\": 0, \"love\": 1, \"recurrent\": 2, \"neural\": 3}\n",
    "\n",
    "for word in sentence:\n",
    "    # Convert the word to its corresponding index\n",
    "    word_index = word_to_index[word]\n",
    "\n",
    "    # Convert the index to a one-hot encoded tensor (you can use other encodings)\n",
    "    word_tensor = tf.one_hot(word_index, len(word_to_index))\n",
    "\n",
    "    # Reshape the tensor to match the expected shape (1, len(word_to_index))\n",
    "    word_tensor = tf.reshape(word_tensor, (1, len(word_to_index)))\n",
    "\n",
    "    # Call the custom RNN layer to get the prediction and updated hidden state\n",
    "    prediction, hidden_state = my_rnn(word_tensor, hidden_state)\n",
    "\n",
    "# The final prediction after processing all words in the sentence\n",
    "next_word_prediction = prediction\n",
    "print(next_word_prediction)\n"
   ]
  }
 ],
 "metadata": {
  "kernelspec": {
   "display_name": "base",
   "language": "python",
   "name": "python3"
  },
  "language_info": {
   "codemirror_mode": {
    "name": "ipython",
    "version": 3
   },
   "file_extension": ".py",
   "mimetype": "text/x-python",
   "name": "python",
   "nbconvert_exporter": "python",
   "pygments_lexer": "ipython3",
   "version": "3.10.10"
  },
  "orig_nbformat": 4
 },
 "nbformat": 4,
 "nbformat_minor": 2
}
