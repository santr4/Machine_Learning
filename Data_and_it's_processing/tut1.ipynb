{
 "cells": [
  {
   "cell_type": "markdown",
   "metadata": {},
   "source": [
    "# Introduction to data in machine learning"
   ]
  },
  {
   "cell_type": "code",
   "execution_count": 6,
   "metadata": {},
   "outputs": [
    {
     "name": "stdout",
     "output_type": "stream",
     "text": [
      "1\n",
      "1\n"
     ]
    }
   ],
   "source": [
    "from sklearn.linear_model import LogisticRegression\n",
    "# example of input data.\n",
    "x = [[1,2],[2,3],[3,4],[4,5],[5,6]]\n",
    "y = [0,0,1,1,1]\n",
    "\n",
    "# train a model\n",
    "model = LogisticRegression()\n",
    "model.fit(x,y)\n",
    "\n",
    "# make a prediction\n",
    "prediction = model.predict([[6,7]])[0]\n",
    "print(prediction)\n",
    "\n",
    "prediction1 = model.predict([[7,4]])[0]\n",
    "print(prediction1)"
   ]
  }
 ],
 "metadata": {
  "kernelspec": {
   "display_name": "base",
   "language": "python",
   "name": "python3"
  },
  "language_info": {
   "codemirror_mode": {
    "name": "ipython",
    "version": 3
   },
   "file_extension": ".py",
   "mimetype": "text/x-python",
   "name": "python",
   "nbconvert_exporter": "python",
   "pygments_lexer": "ipython3",
   "version": "3.10.10"
  },
  "orig_nbformat": 4
 },
 "nbformat": 4,
 "nbformat_minor": 2
}
